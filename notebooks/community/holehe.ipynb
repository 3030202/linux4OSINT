{
  "cells": [
    {
      "cell_type": "markdown",
      "metadata": {
        "id": "view-in-github",
        "colab_type": "text"
      },
      "source": [
        "<a href=\"https://colab.research.google.com/github/3030202/linux4OSINT/blob/main/notebooks/community/holehe.ipynb\" target=\"_parent\"><img src=\"https://colab.research.google.com/assets/colab-badge.svg\" alt=\"Open In Colab\"/></a>"
      ]
    },
    {
      "cell_type": "markdown",
      "metadata": {
        "id": "eWnO-BOVihlo"
      },
      "source": [
        "# **Holehe OSINT - Email to Registered Accounts**\n",
        "![PyPI](https://img.shields.io/pypi/v/holehe) ![PyPI - Week](https://img.shields.io/pypi/dw/holehe) ![PyPI - Downloads](https://static.pepy.tech/badge/holehe) ![PyPI - License](https://img.shields.io/pypi/l/holehe)\n",
        "\n",
        "# [Holehe Online Version](https://osint.industries/)\n",
        "\n",
        "# **Summary** &#x1F4CB;\n",
        "\n",
        "*Efficiently finding registered accounts from emails.*\n",
        "\n",
        "Holehe uses password recovery, login, and registration requests to check if an email is attached to an account on sites like twitter, instagram, imgur and more than 120 others.\n",
        "\n",
        "The full list is available [here](https://github.com/megadose/holehe#modules).\n",
        "\n",
        "## **Features**\n",
        "-----\n",
        "- Can be utilized through the command-line or in a Python script\n",
        "- Email address owner is not alerted by queries from this tool\n",
        "- More than one email address can be queried at one time.\n",
        "- Results can be exported in .csv format.\n",
        "\n",
        "## **Limitations**\n",
        "-----\n",
        "- In some, but not all cases, recovery email and phone number can be returned\n",
        "- Email address registration status is simply unobtainable from some websites.\n",
        "- Rate Limits - website will only allow requests to be made from a specific IP address a certain number of times.\n",
        "\n",
        "### ***Note** &#x1F447;\n",
        "Many of the code examples below included either '!'or '&&shell'. They are included purely for use in Jupyter Notebooks and are not required if you are running these commands on your computer at home.\n",
        "\n",
        "# **Installation** &#x1F4BF;\n",
        "\n",
        "There are two ways to install the holehe tool.\n",
        "1. Use 'pip', a package installer for Python\n",
        "2. download and install the tool from its github repository.\n",
        "\n",
        "Run one of the two code snippets below to install holehe:\n"
      ]
    },
    {
      "cell_type": "code",
      "execution_count": 1,
      "metadata": {
        "id": "MtoQUzJmRFZy",
        "colab": {
          "base_uri": "https://localhost:8080/"
        },
        "outputId": "087faf65-e29a-46bb-ebb1-135a2ef9b364"
      },
      "outputs": [
        {
          "output_type": "stream",
          "name": "stdout",
          "text": [
            "Collecting holehe\n",
            "  Downloading holehe-1.61.tar.gz (44 kB)\n",
            "\u001b[2K     \u001b[90m━━━━━━━━━━━━━━━━━━━━━━━━━━━━━━━━━━━━━━━\u001b[0m \u001b[32m44.6/44.6 kB\u001b[0m \u001b[31m366.6 kB/s\u001b[0m eta \u001b[36m0:00:00\u001b[0m\n",
            "\u001b[?25h  Preparing metadata (setup.py) ... \u001b[?25l\u001b[?25hdone\n",
            "Requirement already satisfied: termcolor in /usr/local/lib/python3.12/dist-packages (from holehe) (3.1.0)\n",
            "Collecting bs4 (from holehe)\n",
            "  Downloading bs4-0.0.2-py2.py3-none-any.whl.metadata (411 bytes)\n",
            "Requirement already satisfied: httpx in /usr/local/lib/python3.12/dist-packages (from holehe) (0.28.1)\n",
            "Collecting trio (from holehe)\n",
            "  Downloading trio-0.30.0-py3-none-any.whl.metadata (8.5 kB)\n",
            "Requirement already satisfied: tqdm in /usr/local/lib/python3.12/dist-packages (from holehe) (4.67.1)\n",
            "Collecting colorama (from holehe)\n",
            "  Downloading colorama-0.4.6-py2.py3-none-any.whl.metadata (17 kB)\n",
            "Requirement already satisfied: beautifulsoup4 in /usr/local/lib/python3.12/dist-packages (from bs4->holehe) (4.13.5)\n",
            "Requirement already satisfied: anyio in /usr/local/lib/python3.12/dist-packages (from httpx->holehe) (4.10.0)\n",
            "Requirement already satisfied: certifi in /usr/local/lib/python3.12/dist-packages (from httpx->holehe) (2025.8.3)\n",
            "Requirement already satisfied: httpcore==1.* in /usr/local/lib/python3.12/dist-packages (from httpx->holehe) (1.0.9)\n",
            "Requirement already satisfied: idna in /usr/local/lib/python3.12/dist-packages (from httpx->holehe) (3.10)\n",
            "Requirement already satisfied: h11>=0.16 in /usr/local/lib/python3.12/dist-packages (from httpcore==1.*->httpx->holehe) (0.16.0)\n",
            "Requirement already satisfied: attrs>=23.2.0 in /usr/local/lib/python3.12/dist-packages (from trio->holehe) (25.3.0)\n",
            "Requirement already satisfied: sortedcontainers in /usr/local/lib/python3.12/dist-packages (from trio->holehe) (2.4.0)\n",
            "Collecting outcome (from trio->holehe)\n",
            "  Downloading outcome-1.3.0.post0-py2.py3-none-any.whl.metadata (2.6 kB)\n",
            "Requirement already satisfied: sniffio>=1.3.0 in /usr/local/lib/python3.12/dist-packages (from trio->holehe) (1.3.1)\n",
            "Requirement already satisfied: typing_extensions>=4.5 in /usr/local/lib/python3.12/dist-packages (from anyio->httpx->holehe) (4.15.0)\n",
            "Requirement already satisfied: soupsieve>1.2 in /usr/local/lib/python3.12/dist-packages (from beautifulsoup4->bs4->holehe) (2.7)\n",
            "Downloading bs4-0.0.2-py2.py3-none-any.whl (1.2 kB)\n",
            "Downloading colorama-0.4.6-py2.py3-none-any.whl (25 kB)\n",
            "Downloading trio-0.30.0-py3-none-any.whl (499 kB)\n",
            "\u001b[2K   \u001b[90m━━━━━━━━━━━━━━━━━━━━━━━━━━━━━━━━━━━━━━━━\u001b[0m \u001b[32m499.2/499.2 kB\u001b[0m \u001b[31m2.0 MB/s\u001b[0m eta \u001b[36m0:00:00\u001b[0m\n",
            "\u001b[?25hDownloading outcome-1.3.0.post0-py2.py3-none-any.whl (10 kB)\n",
            "Building wheels for collected packages: holehe\n",
            "  Building wheel for holehe (setup.py) ... \u001b[?25l\u001b[?25hdone\n",
            "  Created wheel for holehe: filename=holehe-1.61-py3-none-any.whl size=126182 sha256=b5689a20d88b7e7d1af3d69882a2144d8a342aa3ee635f091d868cd99177efa9\n",
            "  Stored in directory: /root/.cache/pip/wheels/08/13/6c/93ed0a13b7aab50d4ed922c8ec1b2f46aa5d27c6f06d7ec857\n",
            "Successfully built holehe\n",
            "Installing collected packages: outcome, colorama, trio, bs4, holehe\n",
            "Successfully installed bs4-0.0.2 colorama-0.4.6 holehe-1.61 outcome-1.3.0.post0 trio-0.30.0\n"
          ]
        }
      ],
      "source": [
        "!pip install holehe"
      ]
    },
    {
      "cell_type": "code",
      "execution_count": null,
      "metadata": {
        "id": "GggqVnKzDRfs"
      },
      "outputs": [],
      "source": [
        "%%bash\n",
        "git clone https://github.com/megadose/holehe.git\n",
        "cd holehe/\n",
        "python3 setup.py install"
      ]
    },
    {
      "cell_type": "markdown",
      "metadata": {
        "id": "gBNwBXx5MTSP"
      },
      "source": [
        "# **Usage** &#x1F4BB;\n",
        "## **Query Single Email Address**\n",
        "------\n",
        "You will enter your command in the following format:\n",
        "```\n",
        "holehe <email_address>\n",
        "```\n",
        "Run the example below to see how to query an email address."
      ]
    },
    {
      "cell_type": "code",
      "execution_count": null,
      "metadata": {
        "id": "aUjw8-_sRh9L"
      },
      "outputs": [],
      "source": [
        "!holehe bngsknk@gmail.com"
      ]
    },
    {
      "cell_type": "markdown",
      "metadata": {
        "id": "flENFXjlUOik"
      },
      "source": [
        "Your result will be one of the following:\n",
        "\n",
        "Green [+] - The email address is registered.\n",
        "\n",
        "Yellow [x] - The email address is not registered.\n",
        "\n",
        "Purple [-] - Email address not used.\n",
        "\n",
        "Red [!] - Error in determining status. (Usually rate limit has been hit)\n",
        "\n",
        "\n",
        "### **Export Results as .csv Document**\n",
        "-----\n",
        "The resultant .csv document will appear in the same folder as you are executing the command.\n",
        "\n",
        "If running this notebook in Google Colab, just click on the folder icon to get access to your .csv, which can be downloaded and opened using Microsoft Excel, or any other spreadsheet-based program.\n",
        "\n",
        "In other services that allow you to host Jupyter Notebooks, such as Binder, you may have to access your folder and thereby the .csv file a different way.\n",
        "\n",
        "You will enter the command in the following format:\n",
        "```\n",
        "holehe --csv <email-address>\n",
        "```\n",
        "Run the example below to see how to query an email address and generate a .csv."
      ]
    },
    {
      "cell_type": "code",
      "execution_count": 2,
      "metadata": {
        "id": "T1s2dm3mUvfd",
        "colab": {
          "base_uri": "https://localhost:8080/"
        },
        "outputId": "95ae0f62-d561-401e-d597-63fcb8153667"
      },
      "outputs": [
        {
          "output_type": "stream",
          "name": "stdout",
          "text": [
            "Twitter : @palenath\n",
            "Github : https://github.com/megadose/holehe\n",
            "For BTC Donations : 1FHDM49QfZX6pJmhjLE5tB2K6CaTLMZpXZ\n",
            " 21% 25/121 [00:00<00:01, 52.23it/s]Some characters could not be decoded, and were replaced with REPLACEMENT CHARACTER.\n",
            " 86% 104/121 [00:01<00:00, 58.90it/s]Some characters could not be decoded, and were replaced with REPLACEMENT CHARACTER.\n",
            " 99% 120/121 [00:10<00:00,  2.56it/s]\u001b[H\u001b[J\n",
            "***********************\n",
            "   bngsknk@gmail.com\n",
            "***********************\n",
            "\u001b[31m[x] about.me\u001b[0m\n",
            "\u001b[31m[x] adobe.com\u001b[0m\n",
            "\u001b[32m[+] amazon.com\u001b[0m\n",
            "\u001b[31m[x] amocrm.com\u001b[0m\n",
            "\u001b[35m[-] any.do\u001b[0m\n",
            "\u001b[35m[-] archive.org\u001b[0m\n",
            "\u001b[35m[-] armurerie-auxerre.com\u001b[0m\n",
            "\u001b[31m[x] atlassian.com\u001b[0m\n",
            "\u001b[35m[-] axonaut.com\u001b[0m\n",
            "\u001b[31m[x] babeshows.co.uk\u001b[0m\n",
            "\u001b[31m[x] badeggsonline.com\u001b[0m\n",
            "\u001b[31m[x] bios-mods.com\u001b[0m\n",
            "\u001b[31m[x] biotechnologyforums.com\u001b[0m\n",
            "\u001b[31m[x] bitmoji.com\u001b[0m\n",
            "\u001b[31m[x] blablacar.com\u001b[0m\n",
            "\u001b[31m[x] blackworldforum.com\u001b[0m\n",
            "\u001b[35m[-] blip.fm\u001b[0m\n",
            "\u001b[31m[x] forum.blitzortung.org\u001b[0m\n",
            "\u001b[31m[x] bluegrassrivals.com\u001b[0m\n",
            "\u001b[35m[-] bodybuilding.com\u001b[0m\n",
            "\u001b[31m[x] buymeacoffee.com\u001b[0m\n",
            "\u001b[31m[x] discussion.cambridge-mt.com\u001b[0m\n",
            "\u001b[35m[-] caringbridge.org\u001b[0m\n",
            "\u001b[31m[x] chinaphonearena.com\u001b[0m\n",
            "\u001b[31m[x] clashfarmer.com\u001b[0m\n",
            "\u001b[31m[x] codecademy.com\u001b[0m\n",
            "\u001b[31m[x] forum.codeigniter.com\u001b[0m\n",
            "\u001b[31m[x] codepen.io\u001b[0m\n",
            "\u001b[35m[-] coroflot.com\u001b[0m\n",
            "\u001b[31m[x] cpaelites.com\u001b[0m\n",
            "\u001b[31m[x] cpahero.com\u001b[0m\n",
            "\u001b[31m[x] cracked.to\u001b[0m\n",
            "\u001b[31m[x] crevado.com\u001b[0m\n",
            "\u001b[31m[x] deliveroo.com\u001b[0m\n",
            "\u001b[31m[x] demonforums.net\u001b[0m\n",
            "\u001b[35m[-] devrant.com\u001b[0m\n",
            "\u001b[31m[x] diigo.com\u001b[0m\n",
            "\u001b[31m[x] discord.com\u001b[0m\n",
            "\u001b[35m[-] docker.com\u001b[0m\n",
            "\u001b[31m[x] dominos.fr\u001b[0m\n",
            "\u001b[31m[x] ebay.com\u001b[0m\n",
            "\u001b[31m[x] ello.co\u001b[0m\n",
            "\u001b[35m[-] envato.com\u001b[0m\n",
            "\u001b[35m[-] eventbrite.com\u001b[0m\n",
            "\u001b[31m[x] evernote.com\u001b[0m\n",
            "\u001b[35m[-] fanpop.com\u001b[0m\n",
            "\u001b[32m[+] firefox.com\u001b[0m\n",
            "\u001b[35m[-] flickr.com\u001b[0m\n",
            "\u001b[35m[-] freelancer.com\u001b[0m\n",
            "\u001b[31m[x] drachenhort.user.stunet.tu-freiberg.de\u001b[0m\n",
            "\u001b[31m[x] garmin.com\u001b[0m\n",
            "\u001b[31m[x] github.com\u001b[0m\n",
            "\u001b[31m[x] google.com\u001b[0m\n",
            "\u001b[32m[+] en.gravatar.com / FullName Джон Доу / https://gravatar.com/bngsknk\u001b[0m\n",
            "\u001b[35m[-] hubspot.com\u001b[0m\n",
            "\u001b[31m[x] imgur.com\u001b[0m\n",
            "\u001b[35m[-] insightly.com\u001b[0m\n",
            "\u001b[31m[x] instagram.com\u001b[0m\n",
            "\u001b[31m[x] issuu.com\u001b[0m\n",
            "\u001b[31m[x] forum.kodi.tv\u001b[0m\n",
            "\u001b[35m[-] komoot.com\u001b[0m\n",
            "\u001b[35m[-] laposte.fr\u001b[0m\n",
            "\u001b[31m[x] last.fm\u001b[0m\n",
            "\u001b[35m[-] lastpass.com\u001b[0m\n",
            "\u001b[35m[-] mail.ru\u001b[0m\n",
            "\u001b[31m[x] community.mybb.com\u001b[0m\n",
            "\u001b[31m[x] myspace.com\u001b[0m\n",
            "\u001b[31m[x] nattyornotforum.nattyornot.com\u001b[0m\n",
            "\u001b[35m[-] naturabuy.fr\u001b[0m\n",
            "\u001b[31m[x] forum.ndemiccreations.com\u001b[0m\n",
            "\u001b[31m[x] forums.nextpvr.com\u001b[0m\n",
            "\u001b[31m[x] nike.com\u001b[0m\n",
            "\u001b[31m[x] nimble.com\u001b[0m\n",
            "\u001b[31m[x] nocrm.io\u001b[0m\n",
            "\u001b[31m[x] nutshell.com\u001b[0m\n",
            "\u001b[31m[x] ok.ru\u001b[0m\n",
            "\u001b[35m[-] office365.com\u001b[0m\n",
            "\u001b[31m[x] onlinesequencer.net\u001b[0m\n",
            "\u001b[35m[-] parler.com\u001b[0m\n",
            "\u001b[31m[x] patreon.com\u001b[0m\n",
            "\u001b[31m[x] pinterest.com\u001b[0m\n",
            "\u001b[31m[x] pipedrive.com\u001b[0m\n",
            "\u001b[35m[-] plurk.com\u001b[0m\n",
            "\u001b[31m[x] pornhub.com\u001b[0m\n",
            "\u001b[35m[-] protonmail.ch\u001b[0m\n",
            "\u001b[35m[-] quora.com\u001b[0m\n",
            "\u001b[35m[-] rambler.ru\u001b[0m\n",
            "\u001b[31m[x] redtube.com\u001b[0m\n",
            "\u001b[35m[-] replit.com\u001b[0m\n",
            "\u001b[31m[x] rocketreach.co\u001b[0m\n",
            "\u001b[31m[x] samsung.com\u001b[0m\n",
            "\u001b[35m[-] seoclerks.com\u001b[0m\n",
            "\u001b[35m[-] 7cups.com\u001b[0m\n",
            "\u001b[31m[x] smule.com\u001b[0m\n",
            "\u001b[31m[x] snapchat.com\u001b[0m\n",
            "\u001b[31m[x] soundcloud.com\u001b[0m\n",
            "\u001b[35m[-] sporcle.com\u001b[0m\n",
            "\u001b[35m[-] spotify.com\u001b[0m\n",
            "\u001b[31m[x] strava.com\u001b[0m\n",
            "\u001b[31m[x] strava.com\u001b[0m\n",
            "\u001b[35m[-] taringa.net\u001b[0m\n",
            "\u001b[31m[x] teamleader.eu\u001b[0m\n",
            "\u001b[35m[-] teamtreehouse.com\u001b[0m\n",
            "\u001b[35m[-] tellonym.me\u001b[0m\n",
            "\u001b[31m[x] thecardboard.org\u001b[0m\n",
            "\u001b[31m[x] forums.therian-guide.com\u001b[0m\n",
            "\u001b[31m[x] thevapingforum.com\u001b[0m\n",
            "\u001b[31m[x] tumblr.com\u001b[0m\n",
            "\u001b[31m[x] tunefind.com\u001b[0m\n",
            "\u001b[35m[-] twitter.com\u001b[0m\n",
            "\u001b[31m[x] venmo.com\u001b[0m\n",
            "\u001b[31m[x] vivino.com\u001b[0m\n",
            "\u001b[31m[x] voxmedia.com\u001b[0m\n",
            "\u001b[31m[x] vrbo.com\u001b[0m\n",
            "\u001b[31m[x] vsco.co\u001b[0m\n",
            "\u001b[35m[-] wattpad.com\u001b[0m\n",
            "\u001b[35m[-] wordpress.com\u001b[0m\n",
            "\u001b[31m[x] xing.com\u001b[0m\n",
            "\u001b[35m[-] xnxx.com\u001b[0m\n",
            "\u001b[35m[-] xvideos.com\u001b[0m\n",
            "\u001b[31m[x] yahoo.com\u001b[0m\n",
            "\u001b[35m[-] zoho.com\u001b[0m\n",
            "\n",
            "\u001b[32m[+] Email used\u001b[0m,\u001b[35m [-] Email not used\u001b[0m,\u001b[31m [x] Rate limit\u001b[0m\n",
            "121 websites checked in 10.31 seconds\n",
            "Twitter : @palenath\n",
            "Github : https://github.com/megadose/holehe\n",
            "For BTC Donations : 1FHDM49QfZX6pJmhjLE5tB2K6CaTLMZpXZ\n",
            "All results have been exported to holehe_1756797699_bngsknk@gmail.com_results.csv\n",
            "100% 121/121 [00:10<00:00, 11.77it/s]\n"
          ]
        }
      ],
      "source": [
        "!holehe --csv bngsknk@gmail.com"
      ]
    },
    {
      "cell_type": "markdown",
      "metadata": {
        "id": "9FHPJtO7xIRb"
      },
      "source": [
        "## **Query Multiple Email Addresses**\n",
        "-------\n",
        "\n",
        "Using the following code, you can query multiple email addresses at one time. Their results will be printed out sequentially.\n",
        "\n",
        "Simply paste your list of email addresses, in quotes and separated by a space. You may query an unlimited number of email addresses, but you may run into rate limitations for some websites.\n",
        "\n",
        "You will enter the command in the following format:\n",
        "\n",
        "```\n",
        "echo \"<email-address> <email-address> ... <email-address>\" | xargs -n 1 holehe\n",
        "```\n",
        "Run the example below to see how to query an email address and generate a .csv."
      ]
    },
    {
      "cell_type": "code",
      "execution_count": null,
      "metadata": {
        "id": "SHN6qezGCfVO"
      },
      "outputs": [],
      "source": [
        "!echo \"test@gmail.com test2@gmail.com\" | xargs -n 1 holehe"
      ]
    },
    {
      "cell_type": "markdown",
      "metadata": {
        "id": "JOa6daYsEep-"
      },
      "source": [
        "### **Export Results as .csv Document**\n",
        "-----\n",
        "There are 3 lines of code required to export the results of multiple email address queries to a .csv. In order to specify the email addresses to query and export to a .csv file, you should paste them in the quoted portion on the 2nd line.\n",
        "\n",
        "The resultant .csv document (named \"result.csv\") will appear in the same folder as you are executing the command.\n",
        "\n",
        "In the case of this notebook, just click on the folder icon to get access to your .csv, which can be downloaded and opened using Microsoft Excel, or any other spreadsheet-based program.\n",
        "\n",
        "You will enter the command in the following format:\n",
        "```\n",
        "pip install csvkit\n",
        "echo \"<email-address> <email-address> ... <email-address>\" | xargs -n 1 holehe --csv\n",
        "csvstack --filenames *.csv > result.csv\n",
        "```\n",
        "\n",
        "Here's an example you can run to see how it works:\n"
      ]
    },
    {
      "cell_type": "code",
      "execution_count": null,
      "metadata": {
        "id": "YhSIzUDUE-Fv"
      },
      "outputs": [],
      "source": [
        "%%bash\n",
        "pip install csvkit\n",
        "echo \"test@gmail.com test2@gmail.com\" | xargs -n 1 holehe --csv\n",
        "csvstack --filenames *.csv > result.csv"
      ]
    },
    {
      "cell_type": "markdown",
      "metadata": {
        "id": "c4tyboZYtLsz"
      },
      "source": [
        "# **FAQ** &#x1F4C3;\n",
        "### **How can I deal with rate limits?**\n",
        "----\n",
        "If using holehe on your own computer:\n",
        "- You can connect to a VPN and then make a request - this effectively changes the IP address from which you are making your request to a given website.\n",
        "- You can also run the application on a different computer or WiFi connection, public spaces or campuses may not be so strongly rate-limited.\n",
        "\n",
        "If using holehe in a Jupyter Notebook, it really depends on the machine hosting your Jupyter Notebook and whether that machine can make a request using a VPN. If not, you may simply have to wait for a time period determined by the website that's rate limiting you.\n",
        "\n",
        "### **How can I display only those websites in which the target email is registered?**\n",
        "---\n",
        "After typing \"holehe\", add \"--only-used.\"\n",
        "\n",
        "Here's an example you can run that demonstrates querying a single email address:"
      ]
    },
    {
      "cell_type": "code",
      "execution_count": null,
      "metadata": {
        "id": "PYe2T9PYMGvH"
      },
      "outputs": [],
      "source": [
        "!holehe --only-used test@gmail.com"
      ]
    },
    {
      "cell_type": "markdown",
      "metadata": {
        "id": "UuJvbFyBMlAy"
      },
      "source": [
        "Here's an example of querying multiple email addresses with --only-used:"
      ]
    },
    {
      "cell_type": "code",
      "execution_count": null,
      "metadata": {
        "id": "Lnn2n-tdMLD2"
      },
      "outputs": [],
      "source": [
        "!echo \"test@gmail.com test2@gmail.com\" | xargs -n 1 holehe --only-used"
      ]
    },
    {
      "cell_type": "markdown",
      "metadata": {
        "id": "NXE8lSeLM8ty"
      },
      "source": [
        "Here's an example of combining both to export the results from a query of a single email address to a .csv:"
      ]
    },
    {
      "cell_type": "code",
      "execution_count": null,
      "metadata": {
        "id": "BrkiUxsiNEtq"
      },
      "outputs": [],
      "source": [
        "!holehe --csv --only-used test@gmail.com"
      ]
    },
    {
      "cell_type": "markdown",
      "metadata": {
        "id": "1936125b"
      },
      "source": [
        "# Task\n",
        "Visualize the number of registered accounts per website from the file \"/content/holehe_1756797699_bngsknk@gmail.com_results.csv\"."
      ]
    },
    {
      "cell_type": "markdown",
      "metadata": {
        "id": "ff069d70"
      },
      "source": [
        "## Load data\n",
        "\n",
        "### Subtask:\n",
        "Load the data from the CSV file into a pandas DataFrame.\n"
      ]
    },
    {
      "cell_type": "markdown",
      "metadata": {
        "id": "b4e77a54"
      },
      "source": [
        "**Reasoning**:\n",
        "The subtask is to load the data from a CSV file into a pandas DataFrame. The first step is to import the pandas library.\n",
        "\n"
      ]
    },
    {
      "cell_type": "code",
      "metadata": {
        "colab": {
          "base_uri": "https://localhost:8080/",
          "height": 244
        },
        "id": "c2adeda2",
        "outputId": "c14dc2f4-b207-459c-8962-957f6b811b07"
      },
      "source": [
        "import pandas as pd\n",
        "\n",
        "df_results = pd.read_csv('/content/holehe_1756797699_bngsknk@gmail.com_results.csv')\n",
        "display(df_results.head())"
      ],
      "execution_count": 3,
      "outputs": [
        {
          "output_type": "display_data",
          "data": {
            "text/plain": [
              "      name      domain             method frequent_rate_limit  rateLimit  \\\n",
              "0  aboutme    about.me           register               False       True   \n",
              "1    adobe   adobe.com  password recovery               False       True   \n",
              "2   amazon  amazon.com              login               False      False   \n",
              "3   amocrm  amocrm.com           register               False       True   \n",
              "4    anydo      any.do              login                True      False   \n",
              "\n",
              "   exists  emailrecovery  phoneNumber others  \n",
              "0   False            NaN          NaN    NaN  \n",
              "1   False            NaN          NaN    NaN  \n",
              "2    True            NaN          NaN    NaN  \n",
              "3   False            NaN          NaN    NaN  \n",
              "4   False            NaN          NaN    NaN  "
            ],
            "text/html": [
              "\n",
              "  <div id=\"df-77e31237-bb53-4a93-9ab1-3e03c4eff142\" class=\"colab-df-container\">\n",
              "    <div>\n",
              "<style scoped>\n",
              "    .dataframe tbody tr th:only-of-type {\n",
              "        vertical-align: middle;\n",
              "    }\n",
              "\n",
              "    .dataframe tbody tr th {\n",
              "        vertical-align: top;\n",
              "    }\n",
              "\n",
              "    .dataframe thead th {\n",
              "        text-align: right;\n",
              "    }\n",
              "</style>\n",
              "<table border=\"1\" class=\"dataframe\">\n",
              "  <thead>\n",
              "    <tr style=\"text-align: right;\">\n",
              "      <th></th>\n",
              "      <th>name</th>\n",
              "      <th>domain</th>\n",
              "      <th>method</th>\n",
              "      <th>frequent_rate_limit</th>\n",
              "      <th>rateLimit</th>\n",
              "      <th>exists</th>\n",
              "      <th>emailrecovery</th>\n",
              "      <th>phoneNumber</th>\n",
              "      <th>others</th>\n",
              "    </tr>\n",
              "  </thead>\n",
              "  <tbody>\n",
              "    <tr>\n",
              "      <th>0</th>\n",
              "      <td>aboutme</td>\n",
              "      <td>about.me</td>\n",
              "      <td>register</td>\n",
              "      <td>False</td>\n",
              "      <td>True</td>\n",
              "      <td>False</td>\n",
              "      <td>NaN</td>\n",
              "      <td>NaN</td>\n",
              "      <td>NaN</td>\n",
              "    </tr>\n",
              "    <tr>\n",
              "      <th>1</th>\n",
              "      <td>adobe</td>\n",
              "      <td>adobe.com</td>\n",
              "      <td>password recovery</td>\n",
              "      <td>False</td>\n",
              "      <td>True</td>\n",
              "      <td>False</td>\n",
              "      <td>NaN</td>\n",
              "      <td>NaN</td>\n",
              "      <td>NaN</td>\n",
              "    </tr>\n",
              "    <tr>\n",
              "      <th>2</th>\n",
              "      <td>amazon</td>\n",
              "      <td>amazon.com</td>\n",
              "      <td>login</td>\n",
              "      <td>False</td>\n",
              "      <td>False</td>\n",
              "      <td>True</td>\n",
              "      <td>NaN</td>\n",
              "      <td>NaN</td>\n",
              "      <td>NaN</td>\n",
              "    </tr>\n",
              "    <tr>\n",
              "      <th>3</th>\n",
              "      <td>amocrm</td>\n",
              "      <td>amocrm.com</td>\n",
              "      <td>register</td>\n",
              "      <td>False</td>\n",
              "      <td>True</td>\n",
              "      <td>False</td>\n",
              "      <td>NaN</td>\n",
              "      <td>NaN</td>\n",
              "      <td>NaN</td>\n",
              "    </tr>\n",
              "    <tr>\n",
              "      <th>4</th>\n",
              "      <td>anydo</td>\n",
              "      <td>any.do</td>\n",
              "      <td>login</td>\n",
              "      <td>True</td>\n",
              "      <td>False</td>\n",
              "      <td>False</td>\n",
              "      <td>NaN</td>\n",
              "      <td>NaN</td>\n",
              "      <td>NaN</td>\n",
              "    </tr>\n",
              "  </tbody>\n",
              "</table>\n",
              "</div>\n",
              "    <div class=\"colab-df-buttons\">\n",
              "\n",
              "  <div class=\"colab-df-container\">\n",
              "    <button class=\"colab-df-convert\" onclick=\"convertToInteractive('df-77e31237-bb53-4a93-9ab1-3e03c4eff142')\"\n",
              "            title=\"Convert this dataframe to an interactive table.\"\n",
              "            style=\"display:none;\">\n",
              "\n",
              "  <svg xmlns=\"http://www.w3.org/2000/svg\" height=\"24px\" viewBox=\"0 -960 960 960\">\n",
              "    <path d=\"M120-120v-720h720v720H120Zm60-500h600v-160H180v160Zm220 220h160v-160H400v160Zm0 220h160v-160H400v160ZM180-400h160v-160H180v160Zm440 0h160v-160H620v160ZM180-180h160v-160H180v160Zm440 0h160v-160H620v160Z\"/>\n",
              "  </svg>\n",
              "    </button>\n",
              "\n",
              "  <style>\n",
              "    .colab-df-container {\n",
              "      display:flex;\n",
              "      gap: 12px;\n",
              "    }\n",
              "\n",
              "    .colab-df-convert {\n",
              "      background-color: #E8F0FE;\n",
              "      border: none;\n",
              "      border-radius: 50%;\n",
              "      cursor: pointer;\n",
              "      display: none;\n",
              "      fill: #1967D2;\n",
              "      height: 32px;\n",
              "      padding: 0 0 0 0;\n",
              "      width: 32px;\n",
              "    }\n",
              "\n",
              "    .colab-df-convert:hover {\n",
              "      background-color: #E2EBFA;\n",
              "      box-shadow: 0px 1px 2px rgba(60, 64, 67, 0.3), 0px 1px 3px 1px rgba(60, 64, 67, 0.15);\n",
              "      fill: #174EA6;\n",
              "    }\n",
              "\n",
              "    .colab-df-buttons div {\n",
              "      margin-bottom: 4px;\n",
              "    }\n",
              "\n",
              "    [theme=dark] .colab-df-convert {\n",
              "      background-color: #3B4455;\n",
              "      fill: #D2E3FC;\n",
              "    }\n",
              "\n",
              "    [theme=dark] .colab-df-convert:hover {\n",
              "      background-color: #434B5C;\n",
              "      box-shadow: 0px 1px 3px 1px rgba(0, 0, 0, 0.15);\n",
              "      filter: drop-shadow(0px 1px 2px rgba(0, 0, 0, 0.3));\n",
              "      fill: #FFFFFF;\n",
              "    }\n",
              "  </style>\n",
              "\n",
              "    <script>\n",
              "      const buttonEl =\n",
              "        document.querySelector('#df-77e31237-bb53-4a93-9ab1-3e03c4eff142 button.colab-df-convert');\n",
              "      buttonEl.style.display =\n",
              "        google.colab.kernel.accessAllowed ? 'block' : 'none';\n",
              "\n",
              "      async function convertToInteractive(key) {\n",
              "        const element = document.querySelector('#df-77e31237-bb53-4a93-9ab1-3e03c4eff142');\n",
              "        const dataTable =\n",
              "          await google.colab.kernel.invokeFunction('convertToInteractive',\n",
              "                                                    [key], {});\n",
              "        if (!dataTable) return;\n",
              "\n",
              "        const docLinkHtml = 'Like what you see? Visit the ' +\n",
              "          '<a target=\"_blank\" href=https://colab.research.google.com/notebooks/data_table.ipynb>data table notebook</a>'\n",
              "          + ' to learn more about interactive tables.';\n",
              "        element.innerHTML = '';\n",
              "        dataTable['output_type'] = 'display_data';\n",
              "        await google.colab.output.renderOutput(dataTable, element);\n",
              "        const docLink = document.createElement('div');\n",
              "        docLink.innerHTML = docLinkHtml;\n",
              "        element.appendChild(docLink);\n",
              "      }\n",
              "    </script>\n",
              "  </div>\n",
              "\n",
              "\n",
              "    <div id=\"df-b3d519a6-386c-43db-9720-53e5f9d36a5c\">\n",
              "      <button class=\"colab-df-quickchart\" onclick=\"quickchart('df-b3d519a6-386c-43db-9720-53e5f9d36a5c')\"\n",
              "                title=\"Suggest charts\"\n",
              "                style=\"display:none;\">\n",
              "\n",
              "<svg xmlns=\"http://www.w3.org/2000/svg\" height=\"24px\"viewBox=\"0 0 24 24\"\n",
              "     width=\"24px\">\n",
              "    <g>\n",
              "        <path d=\"M19 3H5c-1.1 0-2 .9-2 2v14c0 1.1.9 2 2 2h14c1.1 0 2-.9 2-2V5c0-1.1-.9-2-2-2zM9 17H7v-7h2v7zm4 0h-2V7h2v10zm4 0h-2v-4h2v4z\"/>\n",
              "    </g>\n",
              "</svg>\n",
              "      </button>\n",
              "\n",
              "<style>\n",
              "  .colab-df-quickchart {\n",
              "      --bg-color: #E8F0FE;\n",
              "      --fill-color: #1967D2;\n",
              "      --hover-bg-color: #E2EBFA;\n",
              "      --hover-fill-color: #174EA6;\n",
              "      --disabled-fill-color: #AAA;\n",
              "      --disabled-bg-color: #DDD;\n",
              "  }\n",
              "\n",
              "  [theme=dark] .colab-df-quickchart {\n",
              "      --bg-color: #3B4455;\n",
              "      --fill-color: #D2E3FC;\n",
              "      --hover-bg-color: #434B5C;\n",
              "      --hover-fill-color: #FFFFFF;\n",
              "      --disabled-bg-color: #3B4455;\n",
              "      --disabled-fill-color: #666;\n",
              "  }\n",
              "\n",
              "  .colab-df-quickchart {\n",
              "    background-color: var(--bg-color);\n",
              "    border: none;\n",
              "    border-radius: 50%;\n",
              "    cursor: pointer;\n",
              "    display: none;\n",
              "    fill: var(--fill-color);\n",
              "    height: 32px;\n",
              "    padding: 0;\n",
              "    width: 32px;\n",
              "  }\n",
              "\n",
              "  .colab-df-quickchart:hover {\n",
              "    background-color: var(--hover-bg-color);\n",
              "    box-shadow: 0 1px 2px rgba(60, 64, 67, 0.3), 0 1px 3px 1px rgba(60, 64, 67, 0.15);\n",
              "    fill: var(--button-hover-fill-color);\n",
              "  }\n",
              "\n",
              "  .colab-df-quickchart-complete:disabled,\n",
              "  .colab-df-quickchart-complete:disabled:hover {\n",
              "    background-color: var(--disabled-bg-color);\n",
              "    fill: var(--disabled-fill-color);\n",
              "    box-shadow: none;\n",
              "  }\n",
              "\n",
              "  .colab-df-spinner {\n",
              "    border: 2px solid var(--fill-color);\n",
              "    border-color: transparent;\n",
              "    border-bottom-color: var(--fill-color);\n",
              "    animation:\n",
              "      spin 1s steps(1) infinite;\n",
              "  }\n",
              "\n",
              "  @keyframes spin {\n",
              "    0% {\n",
              "      border-color: transparent;\n",
              "      border-bottom-color: var(--fill-color);\n",
              "      border-left-color: var(--fill-color);\n",
              "    }\n",
              "    20% {\n",
              "      border-color: transparent;\n",
              "      border-left-color: var(--fill-color);\n",
              "      border-top-color: var(--fill-color);\n",
              "    }\n",
              "    30% {\n",
              "      border-color: transparent;\n",
              "      border-left-color: var(--fill-color);\n",
              "      border-top-color: var(--fill-color);\n",
              "      border-right-color: var(--fill-color);\n",
              "    }\n",
              "    40% {\n",
              "      border-color: transparent;\n",
              "      border-right-color: var(--fill-color);\n",
              "      border-top-color: var(--fill-color);\n",
              "    }\n",
              "    60% {\n",
              "      border-color: transparent;\n",
              "      border-right-color: var(--fill-color);\n",
              "    }\n",
              "    80% {\n",
              "      border-color: transparent;\n",
              "      border-right-color: var(--fill-color);\n",
              "      border-bottom-color: var(--fill-color);\n",
              "    }\n",
              "    90% {\n",
              "      border-color: transparent;\n",
              "      border-bottom-color: var(--fill-color);\n",
              "    }\n",
              "  }\n",
              "</style>\n",
              "\n",
              "      <script>\n",
              "        async function quickchart(key) {\n",
              "          const quickchartButtonEl =\n",
              "            document.querySelector('#' + key + ' button');\n",
              "          quickchartButtonEl.disabled = true;  // To prevent multiple clicks.\n",
              "          quickchartButtonEl.classList.add('colab-df-spinner');\n",
              "          try {\n",
              "            const charts = await google.colab.kernel.invokeFunction(\n",
              "                'suggestCharts', [key], {});\n",
              "          } catch (error) {\n",
              "            console.error('Error during call to suggestCharts:', error);\n",
              "          }\n",
              "          quickchartButtonEl.classList.remove('colab-df-spinner');\n",
              "          quickchartButtonEl.classList.add('colab-df-quickchart-complete');\n",
              "        }\n",
              "        (() => {\n",
              "          let quickchartButtonEl =\n",
              "            document.querySelector('#df-b3d519a6-386c-43db-9720-53e5f9d36a5c button');\n",
              "          quickchartButtonEl.style.display =\n",
              "            google.colab.kernel.accessAllowed ? 'block' : 'none';\n",
              "        })();\n",
              "      </script>\n",
              "    </div>\n",
              "\n",
              "    </div>\n",
              "  </div>\n"
            ],
            "application/vnd.google.colaboratory.intrinsic+json": {
              "type": "dataframe",
              "repr_error": "Out of range float values are not JSON compliant: nan"
            }
          },
          "metadata": {}
        }
      ]
    },
    {
      "cell_type": "markdown",
      "metadata": {
        "id": "06a0a0f2"
      },
      "source": [
        "## Process data\n",
        "\n",
        "### Subtask:\n",
        "Count the occurrences of registered accounts for each website.\n"
      ]
    },
    {
      "cell_type": "markdown",
      "metadata": {
        "id": "85cfb26c"
      },
      "source": [
        "**Reasoning**:\n",
        "Filter the DataFrame to only include registered accounts and then count the occurrences of each website name.\n",
        "\n"
      ]
    },
    {
      "cell_type": "code",
      "metadata": {
        "colab": {
          "base_uri": "https://localhost:8080/",
          "height": 210
        },
        "id": "4d6440b5",
        "outputId": "8f12d138-27a1-4a9b-e419-3723e786fb62"
      },
      "source": [
        "registered_df = df_results[df_results['exists'] == True]\n",
        "registered_counts = registered_df['name'].value_counts()\n",
        "display(registered_counts)"
      ],
      "execution_count": 4,
      "outputs": [
        {
          "output_type": "display_data",
          "data": {
            "text/plain": [
              "name\n",
              "amazon      1\n",
              "firefox     1\n",
              "gravatar    1\n",
              "Name: count, dtype: int64"
            ],
            "text/html": [
              "<div>\n",
              "<style scoped>\n",
              "    .dataframe tbody tr th:only-of-type {\n",
              "        vertical-align: middle;\n",
              "    }\n",
              "\n",
              "    .dataframe tbody tr th {\n",
              "        vertical-align: top;\n",
              "    }\n",
              "\n",
              "    .dataframe thead th {\n",
              "        text-align: right;\n",
              "    }\n",
              "</style>\n",
              "<table border=\"1\" class=\"dataframe\">\n",
              "  <thead>\n",
              "    <tr style=\"text-align: right;\">\n",
              "      <th></th>\n",
              "      <th>count</th>\n",
              "    </tr>\n",
              "    <tr>\n",
              "      <th>name</th>\n",
              "      <th></th>\n",
              "    </tr>\n",
              "  </thead>\n",
              "  <tbody>\n",
              "    <tr>\n",
              "      <th>amazon</th>\n",
              "      <td>1</td>\n",
              "    </tr>\n",
              "    <tr>\n",
              "      <th>firefox</th>\n",
              "      <td>1</td>\n",
              "    </tr>\n",
              "    <tr>\n",
              "      <th>gravatar</th>\n",
              "      <td>1</td>\n",
              "    </tr>\n",
              "  </tbody>\n",
              "</table>\n",
              "</div><br><label><b>dtype:</b> int64</label>"
            ]
          },
          "metadata": {}
        }
      ]
    },
    {
      "cell_type": "markdown",
      "metadata": {
        "id": "81f89621"
      },
      "source": [
        "## Visualize data\n",
        "\n",
        "### Subtask:\n",
        "Create a bar chart to display the count of registered accounts per website.\n"
      ]
    },
    {
      "cell_type": "markdown",
      "metadata": {
        "id": "425daa3c"
      },
      "source": [
        "**Reasoning**:\n",
        "Create a bar chart to visualize the registered account counts per website as requested in the instructions.\n",
        "\n"
      ]
    },
    {
      "cell_type": "code",
      "metadata": {
        "colab": {
          "base_uri": "https://localhost:8080/",
          "height": 455
        },
        "id": "4768e441",
        "outputId": "acf2dc70-1ad7-45d4-cceb-06d2f166ab22"
      },
      "source": [
        "import matplotlib.pyplot as plt\n",
        "\n",
        "plt.figure(figsize=(10, 6))\n",
        "registered_counts.plot(kind='bar')\n",
        "plt.xlabel(\"Website\")\n",
        "plt.ylabel(\"Number of Registered Accounts\")\n",
        "plt.title(\"Registered Accounts per Website\")\n",
        "plt.xticks(rotation=45, ha='right')\n",
        "plt.tight_layout()\n",
        "plt.show()"
      ],
      "execution_count": 5,
      "outputs": [
        {
          "output_type": "display_data",
          "data": {
            "text/plain": [
              "<Figure size 1000x600 with 1 Axes>"
            ],
            "image/png": "[encoded data removed]"
          },
          "metadata": {}
        }
      ]
    },
    {
      "cell_type": "markdown",
      "metadata": {
        "id": "2482291e"
      },
      "source": [
        "## Summary:\n",
        "\n",
        "### Data Analysis Key Findings\n",
        "\n",
        "*   The analysis identified that there is one registered account each for 'amazon', 'firefox', and 'gravatar' based on the provided data.\n",
        "*   A bar chart was generated to visually represent the number of registered accounts per website.\n",
        "\n",
        "### Insights or Next Steps\n",
        "\n",
        "*   The current data indicates a low number of registered accounts across the listed websites for the email address in question. Further analysis could involve exploring data for other email addresses to identify patterns in website registrations.\n"
      ]
    }
  ],
  "metadata": {
    "colab": {
      "provenance": [],
      "include_colab_link": true
    },
    "kernelspec": {
      "display_name": "Python 3",
      "name": "python3"
    },
    "language_info": {
      "name": "python"
    }
  },
  "nbformat": 4,
  "nbformat_minor": 0
}